{
 "cells": [
  {
   "cell_type": "markdown",
   "id": "e90d1f46",
   "metadata": {},
   "source": [
    "## OOPS: \n",
    "Object Oriented Programming (Reusability of Code is the core idea)\n",
    "\n",
    "## Class in Programming: \n",
    "Virtualization/Classification of real time entity (Eg. Car: We will get idea about it but not exact specification like which type of car). Helps us in modular coding\n",
    "\n",
    "## Why we have class?->\n",
    "When we are trying to build something, we have many components (reading file, operations in db etc.). To maintain the entire module, we need classes so that a new person can make new changes in a structured format for a particular component. So, in one class we will have file handling operations, in one class we will have database operations etc. This helps in reusability of code and also helps in maintaining the component.\n",
    "\n",
    "## Object in Programming: \n",
    "Real time entity which exists (Eg. Mercedes Benz S Class car: Exact Model which exists in real time) Instance of Class\n",
    "\n",
    "## Constructor: \n",
    "Defaul Method by which we can pass values/data to the classes\n",
    "\n",
    "## Other Concepts of OOPs: \n",
    "Inheritance, Polymorphism, Overriding, Overloading, Abstraction etc."
   ]
  },
  {
   "cell_type": "code",
   "execution_count": null,
   "id": "707e633c",
   "metadata": {},
   "outputs": [],
   "source": []
  }
 ],
 "metadata": {
  "kernelspec": {
   "display_name": "Python 3 (ipykernel)",
   "language": "python",
   "name": "python3"
  },
  "language_info": {
   "codemirror_mode": {
    "name": "ipython",
    "version": 3
   },
   "file_extension": ".py",
   "mimetype": "text/x-python",
   "name": "python",
   "nbconvert_exporter": "python",
   "pygments_lexer": "ipython3",
   "version": "3.9.7"
  }
 },
 "nbformat": 4,
 "nbformat_minor": 5
}
