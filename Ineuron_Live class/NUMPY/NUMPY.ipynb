{
 "cells": [
  {
   "cell_type": "markdown",
   "id": "e6ba9b2b",
   "metadata": {},
   "source": [
    "## NUMPY (NUMERICAL PYTHON)"
   ]
  },
  {
   "cell_type": "code",
   "execution_count": 1,
   "id": "0be74c24",
   "metadata": {},
   "outputs": [],
   "source": [
    "import numpy as np"
   ]
  },
  {
   "cell_type": "code",
   "execution_count": 2,
   "id": "d2bf8a8f",
   "metadata": {},
   "outputs": [
    {
     "data": {
      "text/plain": [
       "array([2, 3, 4, 5, 6])"
      ]
     },
     "execution_count": 2,
     "metadata": {},
     "output_type": "execute_result"
    }
   ],
   "source": [
    "np.array([2,3,4,5,6])"
   ]
  },
  {
   "cell_type": "code",
   "execution_count": 3,
   "id": "1de2eb7e",
   "metadata": {},
   "outputs": [
    {
     "data": {
      "text/plain": [
       "numpy.ndarray"
      ]
     },
     "execution_count": 3,
     "metadata": {},
     "output_type": "execute_result"
    }
   ],
   "source": [
    "type(np.array([2,3,4,5,6]))"
   ]
  },
  {
   "cell_type": "code",
   "execution_count": 4,
   "id": "00f01c31",
   "metadata": {},
   "outputs": [
    {
     "data": {
      "text/plain": [
       "array([[2, 3, 4],\n",
       "       [4, 5, 6]])"
      ]
     },
     "execution_count": 4,
     "metadata": {},
     "output_type": "execute_result"
    }
   ],
   "source": [
    "np.array([[2,3,4],[4,5,6]])"
   ]
  },
  {
   "cell_type": "code",
   "execution_count": 5,
   "id": "a35e34be",
   "metadata": {},
   "outputs": [],
   "source": [
    "l=[[1,2,3,4],[2,3,4,5]]"
   ]
  },
  {
   "cell_type": "code",
   "execution_count": 6,
   "id": "486e9153",
   "metadata": {},
   "outputs": [
    {
     "data": {
      "text/plain": [
       "1"
      ]
     },
     "execution_count": 6,
     "metadata": {},
     "output_type": "execute_result"
    }
   ],
   "source": [
    "l[0][0]"
   ]
  },
  {
   "cell_type": "code",
   "execution_count": 7,
   "id": "88222ee0",
   "metadata": {},
   "outputs": [
    {
     "data": {
      "text/plain": [
       "2"
      ]
     },
     "execution_count": 7,
     "metadata": {},
     "output_type": "execute_result"
    }
   ],
   "source": [
    "l[0][1]"
   ]
  },
  {
   "cell_type": "code",
   "execution_count": 8,
   "id": "27ee9001",
   "metadata": {},
   "outputs": [],
   "source": [
    "a=np.array([3,4,5,6],ndmin=3)"
   ]
  },
  {
   "cell_type": "code",
   "execution_count": 9,
   "id": "372792c5",
   "metadata": {},
   "outputs": [
    {
     "data": {
      "text/plain": [
       "array([[[3, 4, 5, 6]]])"
      ]
     },
     "execution_count": 9,
     "metadata": {},
     "output_type": "execute_result"
    }
   ],
   "source": [
    "a"
   ]
  },
  {
   "cell_type": "code",
   "execution_count": 10,
   "id": "37b61631",
   "metadata": {},
   "outputs": [],
   "source": [
    "arr=np.array([[1,2,3],[4,5,6],[7,8,9]])"
   ]
  },
  {
   "cell_type": "code",
   "execution_count": 11,
   "id": "3c73731e",
   "metadata": {},
   "outputs": [
    {
     "data": {
      "text/plain": [
       "array([[1, 2, 3],\n",
       "       [4, 5, 6],\n",
       "       [7, 8, 9]])"
      ]
     },
     "execution_count": 11,
     "metadata": {},
     "output_type": "execute_result"
    }
   ],
   "source": [
    "arr"
   ]
  },
  {
   "cell_type": "code",
   "execution_count": 12,
   "id": "cf7cbec5",
   "metadata": {},
   "outputs": [
    {
     "data": {
      "text/plain": [
       "2"
      ]
     },
     "execution_count": 12,
     "metadata": {},
     "output_type": "execute_result"
    }
   ],
   "source": [
    "arr.ndim"
   ]
  },
  {
   "cell_type": "code",
   "execution_count": 13,
   "id": "95d50dc5",
   "metadata": {},
   "outputs": [
    {
     "data": {
      "text/plain": [
       "array([[1, 2, 2, 5],\n",
       "       [4, 4, 7, 1],\n",
       "       [5, 4, 6, 7],\n",
       "       [3, 5, 8, 8]])"
      ]
     },
     "execution_count": 13,
     "metadata": {},
     "output_type": "execute_result"
    }
   ],
   "source": [
    "np.random.randint(1,10,(4,4))"
   ]
  },
  {
   "cell_type": "code",
   "execution_count": 14,
   "id": "e4364bc6",
   "metadata": {},
   "outputs": [
    {
     "data": {
      "text/plain": [
       "array([[[4, 4],\n",
       "        [7, 7],\n",
       "        [2, 5],\n",
       "        [6, 7]],\n",
       "\n",
       "       [[5, 8],\n",
       "        [3, 1],\n",
       "        [9, 7],\n",
       "        [2, 5]],\n",
       "\n",
       "       [[1, 6],\n",
       "        [4, 6],\n",
       "        [7, 3],\n",
       "        [7, 6]],\n",
       "\n",
       "       [[5, 1],\n",
       "        [8, 1],\n",
       "        [9, 5],\n",
       "        [1, 5]]])"
      ]
     },
     "execution_count": 14,
     "metadata": {},
     "output_type": "execute_result"
    }
   ],
   "source": [
    "np.random.randint(1,10,(4,4,2))"
   ]
  },
  {
   "cell_type": "code",
   "execution_count": 1,
   "id": "b0b97827",
   "metadata": {},
   "outputs": [],
   "source": [
    "### 13th August ###"
   ]
  },
  {
   "cell_type": "code",
   "execution_count": 2,
   "id": "cdb8c216",
   "metadata": {},
   "outputs": [],
   "source": [
    "import numpy as np"
   ]
  },
  {
   "cell_type": "code",
   "execution_count": 9,
   "id": "29569f35",
   "metadata": {},
   "outputs": [],
   "source": [
    "l=[1,2,3,4,5,6]"
   ]
  },
  {
   "cell_type": "code",
   "execution_count": 10,
   "id": "e68c1f2a",
   "metadata": {},
   "outputs": [
    {
     "data": {
      "text/plain": [
       "array([1, 2, 3, 4, 5, 6])"
      ]
     },
     "execution_count": 10,
     "metadata": {},
     "output_type": "execute_result"
    }
   ],
   "source": [
    "np.array(l)"
   ]
  },
  {
   "cell_type": "code",
   "execution_count": 29,
   "id": "f2dbe05e",
   "metadata": {},
   "outputs": [],
   "source": [
    "l1=[4,5,6,7,\"sudh\",34.565,True]"
   ]
  },
  {
   "cell_type": "code",
   "execution_count": 30,
   "id": "9fe3ae48",
   "metadata": {},
   "outputs": [
    {
     "data": {
      "text/plain": [
       "array(['4', '5', '6', '7', 'sudh', '34.565', 'True'], dtype='<U32')"
      ]
     },
     "execution_count": 30,
     "metadata": {},
     "output_type": "execute_result"
    }
   ],
   "source": [
    " np.array(l1)"
   ]
  },
  {
   "cell_type": "code",
   "execution_count": 14,
   "id": "3b5bcc4f",
   "metadata": {},
   "outputs": [
    {
     "data": {
      "text/plain": [
       "array([[[1, 2, 3],\n",
       "        [4, 5, 6],\n",
       "        [7, 8, 9]]])"
      ]
     },
     "execution_count": 14,
     "metadata": {},
     "output_type": "execute_result"
    }
   ],
   "source": [
    "np.array([[[1,2,3],[4,5,6],[7,8,9]]])"
   ]
  },
  {
   "cell_type": "code",
   "execution_count": 15,
   "id": "c4938fa3",
   "metadata": {},
   "outputs": [
    {
     "data": {
      "text/plain": [
       "array([[1, 2, 3],\n",
       "       [4, 5, 6]])"
      ]
     },
     "execution_count": 15,
     "metadata": {},
     "output_type": "execute_result"
    }
   ],
   "source": [
    "np.array([[1,2,3],[4,5,6]])"
   ]
  },
  {
   "cell_type": "code",
   "execution_count": 31,
   "id": "30784f3f",
   "metadata": {},
   "outputs": [],
   "source": [
    "a1=np.array(l1)"
   ]
  },
  {
   "cell_type": "code",
   "execution_count": 17,
   "id": "7cac48aa",
   "metadata": {},
   "outputs": [],
   "source": [
    "a2=np.array([[1,2,3],[4,5,6]])"
   ]
  },
  {
   "cell_type": "code",
   "execution_count": 18,
   "id": "a97e2812",
   "metadata": {},
   "outputs": [],
   "source": [
    "a3=np.array([[[1,2,3],[4,5,6],[7,8,9]]])"
   ]
  },
  {
   "cell_type": "code",
   "execution_count": 32,
   "id": "5c428ae9",
   "metadata": {},
   "outputs": [
    {
     "data": {
      "text/plain": [
       "array(['4', '5', '6', '7', 'sudh', '34.565', 'True'], dtype='<U32')"
      ]
     },
     "execution_count": 32,
     "metadata": {},
     "output_type": "execute_result"
    }
   ],
   "source": [
    "a1"
   ]
  },
  {
   "cell_type": "code",
   "execution_count": 20,
   "id": "d1c9b821",
   "metadata": {},
   "outputs": [
    {
     "data": {
      "text/plain": [
       "array([[1, 2, 3],\n",
       "       [4, 5, 6]])"
      ]
     },
     "execution_count": 20,
     "metadata": {},
     "output_type": "execute_result"
    }
   ],
   "source": [
    "a2"
   ]
  },
  {
   "cell_type": "code",
   "execution_count": 21,
   "id": "a8ea0aee",
   "metadata": {},
   "outputs": [
    {
     "data": {
      "text/plain": [
       "array([[[1, 2, 3],\n",
       "        [4, 5, 6],\n",
       "        [7, 8, 9]]])"
      ]
     },
     "execution_count": 21,
     "metadata": {},
     "output_type": "execute_result"
    }
   ],
   "source": [
    "a3"
   ]
  },
  {
   "cell_type": "markdown",
   "id": "731ac12a",
   "metadata": {},
   "source": [
    "## Number of dimensions"
   ]
  },
  {
   "cell_type": "code",
   "execution_count": 22,
   "id": "e5a477a9",
   "metadata": {},
   "outputs": [
    {
     "data": {
      "text/plain": [
       "1"
      ]
     },
     "execution_count": 22,
     "metadata": {},
     "output_type": "execute_result"
    }
   ],
   "source": [
    "a1.ndim"
   ]
  },
  {
   "cell_type": "code",
   "execution_count": 23,
   "id": "e15d30ea",
   "metadata": {},
   "outputs": [
    {
     "data": {
      "text/plain": [
       "2"
      ]
     },
     "execution_count": 23,
     "metadata": {},
     "output_type": "execute_result"
    }
   ],
   "source": [
    "a2.ndim"
   ]
  },
  {
   "cell_type": "code",
   "execution_count": 24,
   "id": "9fc723f2",
   "metadata": {},
   "outputs": [
    {
     "data": {
      "text/plain": [
       "3"
      ]
     },
     "execution_count": 24,
     "metadata": {},
     "output_type": "execute_result"
    }
   ],
   "source": [
    "a3.ndim"
   ]
  },
  {
   "cell_type": "code",
   "execution_count": 33,
   "id": "2e63a9f5",
   "metadata": {},
   "outputs": [
    {
     "data": {
      "text/plain": [
       "7"
      ]
     },
     "execution_count": 33,
     "metadata": {},
     "output_type": "execute_result"
    }
   ],
   "source": [
    "a1.size"
   ]
  },
  {
   "cell_type": "code",
   "execution_count": 26,
   "id": "f2c6dc1b",
   "metadata": {},
   "outputs": [
    {
     "data": {
      "text/plain": [
       "6"
      ]
     },
     "execution_count": 26,
     "metadata": {},
     "output_type": "execute_result"
    }
   ],
   "source": [
    "a2.size"
   ]
  },
  {
   "cell_type": "code",
   "execution_count": 27,
   "id": "354e875b",
   "metadata": {},
   "outputs": [
    {
     "data": {
      "text/plain": [
       "9"
      ]
     },
     "execution_count": 27,
     "metadata": {},
     "output_type": "execute_result"
    }
   ],
   "source": [
    "a3.size"
   ]
  },
  {
   "cell_type": "code",
   "execution_count": 34,
   "id": "750db49b",
   "metadata": {},
   "outputs": [
    {
     "data": {
      "text/plain": [
       "(7,)"
      ]
     },
     "execution_count": 34,
     "metadata": {},
     "output_type": "execute_result"
    }
   ],
   "source": [
    "a1.shape"
   ]
  },
  {
   "cell_type": "code",
   "execution_count": 37,
   "id": "149d1ed9",
   "metadata": {},
   "outputs": [
    {
     "data": {
      "text/plain": [
       "(2, 3)"
      ]
     },
     "execution_count": 37,
     "metadata": {},
     "output_type": "execute_result"
    }
   ],
   "source": [
    "a2.shape"
   ]
  },
  {
   "cell_type": "code",
   "execution_count": 38,
   "id": "32dbfd2d",
   "metadata": {},
   "outputs": [
    {
     "data": {
      "text/plain": [
       "(1, 3, 3)"
      ]
     },
     "execution_count": 38,
     "metadata": {},
     "output_type": "execute_result"
    }
   ],
   "source": [
    "a3.shape"
   ]
  },
  {
   "cell_type": "code",
   "execution_count": 73,
   "id": "4173d36a",
   "metadata": {},
   "outputs": [
    {
     "data": {
      "text/plain": [
       "18"
      ]
     },
     "execution_count": 73,
     "metadata": {},
     "output_type": "execute_result"
    }
   ],
   "source": [
    "np.random.randint(2,50)"
   ]
  },
  {
   "cell_type": "code",
   "execution_count": 74,
   "id": "7faa3f86",
   "metadata": {},
   "outputs": [
    {
     "data": {
      "text/plain": [
       "array([[15, 22, 47, 39],\n",
       "       [ 7, 18, 37, 31],\n",
       "       [24,  3, 20, 40]])"
      ]
     },
     "execution_count": 74,
     "metadata": {},
     "output_type": "execute_result"
    }
   ],
   "source": [
    "np.random.randint(2,50,(3,4))"
   ]
  },
  {
   "cell_type": "code",
   "execution_count": 42,
   "id": "80755d7f",
   "metadata": {},
   "outputs": [
    {
     "data": {
      "text/plain": [
       "array([[-2.04914532,  1.56639682,  0.52896215, -0.21347609],\n",
       "       [-0.48331111, -1.54295581,  0.38476535,  0.78696828],\n",
       "       [-1.66966686, -0.81080927, -0.80390122, -1.10062247],\n",
       "       [-0.70321836,  0.00974618,  0.14104772, -0.40407739]])"
      ]
     },
     "execution_count": 42,
     "metadata": {},
     "output_type": "execute_result"
    }
   ],
   "source": [
    "np.random.randn(4,4)"
   ]
  },
  {
   "cell_type": "code",
   "execution_count": 43,
   "id": "f1f945b9",
   "metadata": {},
   "outputs": [],
   "source": [
    "a4=np.random.randn(4,4)"
   ]
  },
  {
   "cell_type": "code",
   "execution_count": 44,
   "id": "39e24725",
   "metadata": {},
   "outputs": [
    {
     "data": {
      "text/plain": [
       "array([[ 2.99388318, -1.0630061 ,  1.36789159,  0.37607502],\n",
       "       [-0.71592218, -0.5986328 ,  1.04143213, -0.02228817],\n",
       "       [-0.01736771, -1.10411501, -0.09124417, -1.43029505],\n",
       "       [-0.07225939, -0.18477699,  0.21682751,  0.91168645]])"
      ]
     },
     "execution_count": 44,
     "metadata": {},
     "output_type": "execute_result"
    }
   ],
   "source": [
    "a4"
   ]
  },
  {
   "cell_type": "code",
   "execution_count": 45,
   "id": "2bd2b21c",
   "metadata": {},
   "outputs": [],
   "source": [
    "a4=np.random.randn(2,8)"
   ]
  },
  {
   "cell_type": "markdown",
   "id": "66b450c4",
   "metadata": {},
   "source": [
    "## n=normal distribution"
   ]
  },
  {
   "cell_type": "code",
   "execution_count": 46,
   "id": "a7114bdb",
   "metadata": {},
   "outputs": [
    {
     "data": {
      "text/plain": [
       "array([[-1.5033825 , -0.27733549,  0.53080685,  1.56947736,  2.54552763,\n",
       "        -0.39540307, -0.49500065,  1.18829619],\n",
       "       [ 0.25513053, -2.17241149,  1.57109625, -0.30087288,  0.56255454,\n",
       "         0.93855909,  1.54387514,  0.30475939]])"
      ]
     },
     "execution_count": 46,
     "metadata": {},
     "output_type": "execute_result"
    }
   ],
   "source": [
    "a4"
   ]
  },
  {
   "cell_type": "code",
   "execution_count": 47,
   "id": "a2fff2b7",
   "metadata": {},
   "outputs": [],
   "source": [
    "a4=np.random.randn(8,2)"
   ]
  },
  {
   "cell_type": "code",
   "execution_count": 48,
   "id": "19e631cf",
   "metadata": {},
   "outputs": [
    {
     "data": {
      "text/plain": [
       "array([[ 0.22019708,  0.27952113],\n",
       "       [ 1.12802802,  0.57007831],\n",
       "       [ 0.66236301,  0.67031144],\n",
       "       [-0.67244056, -1.41129578],\n",
       "       [-1.54544885,  0.97201386],\n",
       "       [ 1.9309643 ,  0.30742504],\n",
       "       [-1.16469618,  0.22103129],\n",
       "       [-1.23345107,  0.41898814]])"
      ]
     },
     "execution_count": 48,
     "metadata": {},
     "output_type": "execute_result"
    }
   ],
   "source": [
    "a4"
   ]
  },
  {
   "cell_type": "code",
   "execution_count": 49,
   "id": "5ef74cfc",
   "metadata": {},
   "outputs": [],
   "source": [
    "a4=np.random.randn(16,1)"
   ]
  },
  {
   "cell_type": "code",
   "execution_count": 50,
   "id": "09f10462",
   "metadata": {},
   "outputs": [
    {
     "data": {
      "text/plain": [
       "array([[ 0.41166966],\n",
       "       [-0.16968687],\n",
       "       [ 2.37261483],\n",
       "       [ 0.35309686],\n",
       "       [-0.11364447],\n",
       "       [-1.3631453 ],\n",
       "       [ 0.97269123],\n",
       "       [-0.22839278],\n",
       "       [-0.81975159],\n",
       "       [ 0.07869983],\n",
       "       [ 0.62869887],\n",
       "       [ 1.07817182],\n",
       "       [ 0.97393147],\n",
       "       [-1.90811967],\n",
       "       [ 1.42109975],\n",
       "       [-0.82255388]])"
      ]
     },
     "execution_count": 50,
     "metadata": {},
     "output_type": "execute_result"
    }
   ],
   "source": [
    "a4"
   ]
  },
  {
   "cell_type": "markdown",
   "id": "36372edb",
   "metadata": {},
   "source": [
    "## RESHAPE "
   ]
  },
  {
   "cell_type": "code",
   "execution_count": 53,
   "id": "c128e9c7",
   "metadata": {},
   "outputs": [
    {
     "data": {
      "text/plain": [
       "array([[ 0.41166966, -0.16968687,  2.37261483,  0.35309686, -0.11364447,\n",
       "        -1.3631453 ,  0.97269123, -0.22839278],\n",
       "       [-0.81975159,  0.07869983,  0.62869887,  1.07817182,  0.97393147,\n",
       "        -1.90811967,  1.42109975, -0.82255388]])"
      ]
     },
     "execution_count": 53,
     "metadata": {},
     "output_type": "execute_result"
    }
   ],
   "source": [
    "a4.reshape(2,8)"
   ]
  },
  {
   "cell_type": "code",
   "execution_count": 54,
   "id": "10898242",
   "metadata": {},
   "outputs": [
    {
     "data": {
      "text/plain": [
       "array([[ 0.41166966, -0.16968687],\n",
       "       [ 2.37261483,  0.35309686],\n",
       "       [-0.11364447, -1.3631453 ],\n",
       "       [ 0.97269123, -0.22839278],\n",
       "       [-0.81975159,  0.07869983],\n",
       "       [ 0.62869887,  1.07817182],\n",
       "       [ 0.97393147, -1.90811967],\n",
       "       [ 1.42109975, -0.82255388]])"
      ]
     },
     "execution_count": 54,
     "metadata": {},
     "output_type": "execute_result"
    }
   ],
   "source": [
    "a4.reshape(8,2)"
   ]
  },
  {
   "cell_type": "code",
   "execution_count": 55,
   "id": "14bf2db0",
   "metadata": {},
   "outputs": [
    {
     "data": {
      "text/plain": [
       "array([[ 0.41166966],\n",
       "       [-0.16968687],\n",
       "       [ 2.37261483],\n",
       "       [ 0.35309686],\n",
       "       [-0.11364447],\n",
       "       [-1.3631453 ],\n",
       "       [ 0.97269123],\n",
       "       [-0.22839278],\n",
       "       [-0.81975159],\n",
       "       [ 0.07869983],\n",
       "       [ 0.62869887],\n",
       "       [ 1.07817182],\n",
       "       [ 0.97393147],\n",
       "       [-1.90811967],\n",
       "       [ 1.42109975],\n",
       "       [-0.82255388]])"
      ]
     },
     "execution_count": 55,
     "metadata": {},
     "output_type": "execute_result"
    }
   ],
   "source": [
    "a4.reshape(16,1)"
   ]
  },
  {
   "cell_type": "code",
   "execution_count": 56,
   "id": "4c53cae0",
   "metadata": {},
   "outputs": [
    {
     "data": {
      "text/plain": [
       "array([[ 0.41166966],\n",
       "       [-0.16968687],\n",
       "       [ 2.37261483],\n",
       "       [ 0.35309686],\n",
       "       [-0.11364447],\n",
       "       [-1.3631453 ],\n",
       "       [ 0.97269123],\n",
       "       [-0.22839278],\n",
       "       [-0.81975159],\n",
       "       [ 0.07869983],\n",
       "       [ 0.62869887],\n",
       "       [ 1.07817182],\n",
       "       [ 0.97393147],\n",
       "       [-1.90811967],\n",
       "       [ 1.42109975],\n",
       "       [-0.82255388]])"
      ]
     },
     "execution_count": 56,
     "metadata": {},
     "output_type": "execute_result"
    }
   ],
   "source": [
    "a4.reshape(16,1)"
   ]
  },
  {
   "cell_type": "code",
   "execution_count": 57,
   "id": "63136e61",
   "metadata": {},
   "outputs": [
    {
     "data": {
      "text/plain": [
       "array([[ 0.41166966, -0.16968687,  2.37261483,  0.35309686, -0.11364447,\n",
       "        -1.3631453 ,  0.97269123, -0.22839278],\n",
       "       [-0.81975159,  0.07869983,  0.62869887,  1.07817182,  0.97393147,\n",
       "        -1.90811967,  1.42109975, -0.82255388]])"
      ]
     },
     "execution_count": 57,
     "metadata": {},
     "output_type": "execute_result"
    }
   ],
   "source": [
    "a4.reshape(2,-1)"
   ]
  },
  {
   "cell_type": "code",
   "execution_count": 59,
   "id": "ce494a90",
   "metadata": {},
   "outputs": [
    {
     "data": {
      "text/plain": [
       "array([[ 0.41166966, -0.16968687,  2.37261483,  0.35309686, -0.11364447,\n",
       "        -1.3631453 ,  0.97269123, -0.22839278],\n",
       "       [-0.81975159,  0.07869983,  0.62869887,  1.07817182,  0.97393147,\n",
       "        -1.90811967,  1.42109975, -0.82255388]])"
      ]
     },
     "execution_count": 59,
     "metadata": {},
     "output_type": "execute_result"
    }
   ],
   "source": [
    "a4.reshape(2,-16652)"
   ]
  },
  {
   "cell_type": "code",
   "execution_count": 60,
   "id": "15101c24",
   "metadata": {},
   "outputs": [
    {
     "data": {
      "text/plain": [
       "array([[[ 0.41166966, -0.16968687,  2.37261483,  0.35309686],\n",
       "        [-0.11364447, -1.3631453 ,  0.97269123, -0.22839278]],\n",
       "\n",
       "       [[-0.81975159,  0.07869983,  0.62869887,  1.07817182],\n",
       "        [ 0.97393147, -1.90811967,  1.42109975, -0.82255388]]])"
      ]
     },
     "execution_count": 60,
     "metadata": {},
     "output_type": "execute_result"
    }
   ],
   "source": [
    "a4.reshape(2,2,4)"
   ]
  },
  {
   "cell_type": "code",
   "execution_count": 61,
   "id": "d987c54d",
   "metadata": {},
   "outputs": [
    {
     "data": {
      "text/plain": [
       "array([[[[[[[ 0.41166966, -0.16968687,  2.37261483,  0.35309686],\n",
       "            [-0.11364447, -1.3631453 ,  0.97269123, -0.22839278]],\n",
       "\n",
       "           [[-0.81975159,  0.07869983,  0.62869887,  1.07817182],\n",
       "            [ 0.97393147, -1.90811967,  1.42109975, -0.82255388]]]]]]])"
      ]
     },
     "execution_count": 61,
     "metadata": {},
     "output_type": "execute_result"
    }
   ],
   "source": [
    "a4.reshape(1,1,1,1,2,2,4)"
   ]
  },
  {
   "cell_type": "code",
   "execution_count": 62,
   "id": "9b352c78",
   "metadata": {},
   "outputs": [
    {
     "data": {
      "text/plain": [
       "array(['4', '5', '6', '7', 'sudh', '34.565', 'True'], dtype='<U32')"
      ]
     },
     "execution_count": 62,
     "metadata": {},
     "output_type": "execute_result"
    }
   ],
   "source": [
    "a1"
   ]
  },
  {
   "cell_type": "code",
   "execution_count": 63,
   "id": "c2de44cb",
   "metadata": {},
   "outputs": [
    {
     "data": {
      "text/plain": [
       "'4'"
      ]
     },
     "execution_count": 63,
     "metadata": {},
     "output_type": "execute_result"
    }
   ],
   "source": [
    "a1[0]"
   ]
  },
  {
   "cell_type": "code",
   "execution_count": 64,
   "id": "53431a92",
   "metadata": {},
   "outputs": [
    {
     "data": {
      "text/plain": [
       "array(['6', '7', 'sudh', '34.565'], dtype='<U32')"
      ]
     },
     "execution_count": 64,
     "metadata": {},
     "output_type": "execute_result"
    }
   ],
   "source": [
    "a1[2:6]"
   ]
  },
  {
   "cell_type": "code",
   "execution_count": 65,
   "id": "a1b2b30d",
   "metadata": {},
   "outputs": [
    {
     "data": {
      "text/plain": [
       "array(['6', 'sudh'], dtype='<U32')"
      ]
     },
     "execution_count": 65,
     "metadata": {},
     "output_type": "execute_result"
    }
   ],
   "source": [
    "a1[2:6:2]"
   ]
  },
  {
   "cell_type": "code",
   "execution_count": 66,
   "id": "1fd896eb",
   "metadata": {},
   "outputs": [
    {
     "data": {
      "text/plain": [
       "array(['True', '34.565', 'sudh', '7', '6', '5', '4'], dtype='<U32')"
      ]
     },
     "execution_count": 66,
     "metadata": {},
     "output_type": "execute_result"
    }
   ],
   "source": [
    "a1[::-1]"
   ]
  },
  {
   "cell_type": "code",
   "execution_count": 67,
   "id": "43715a56",
   "metadata": {},
   "outputs": [
    {
     "data": {
      "text/plain": [
       "array([[1, 2, 3],\n",
       "       [4, 5, 6]])"
      ]
     },
     "execution_count": 67,
     "metadata": {},
     "output_type": "execute_result"
    }
   ],
   "source": [
    "a2"
   ]
  },
  {
   "cell_type": "code",
   "execution_count": 68,
   "id": "886c7b74",
   "metadata": {},
   "outputs": [
    {
     "data": {
      "text/plain": [
       "array([1, 2, 3])"
      ]
     },
     "execution_count": 68,
     "metadata": {},
     "output_type": "execute_result"
    }
   ],
   "source": [
    "a2[0]"
   ]
  },
  {
   "cell_type": "markdown",
   "id": "ad95fbb7",
   "metadata": {},
   "source": [
    "##  slicing (Extract columns)"
   ]
  },
  {
   "cell_type": "code",
   "execution_count": 79,
   "id": "db6a3168",
   "metadata": {},
   "outputs": [
    {
     "data": {
      "text/plain": [
       "array([[1, 2, 3],\n",
       "       [4, 5, 6]])"
      ]
     },
     "execution_count": 79,
     "metadata": {},
     "output_type": "execute_result"
    }
   ],
   "source": [
    "a2"
   ]
  },
  {
   "cell_type": "code",
   "execution_count": 70,
   "id": "f3dd4efb",
   "metadata": {},
   "outputs": [
    {
     "data": {
      "text/plain": [
       "array([[2, 3],\n",
       "       [5, 6]])"
      ]
     },
     "execution_count": 70,
     "metadata": {},
     "output_type": "execute_result"
    }
   ],
   "source": [
    "a2[[0,1],1:]"
   ]
  },
  {
   "cell_type": "markdown",
   "id": "667f26da",
   "metadata": {},
   "source": [
    "## Give me a record whose value is more than 50 "
   ]
  },
  {
   "cell_type": "code",
   "execution_count": 77,
   "id": "4dcee7b6",
   "metadata": {},
   "outputs": [],
   "source": [
    "a5=np.random.randint(2,50,(6,5))"
   ]
  },
  {
   "cell_type": "code",
   "execution_count": 78,
   "id": "f47baab0",
   "metadata": {},
   "outputs": [
    {
     "data": {
      "text/plain": [
       "array([[36, 41, 24, 39, 40],\n",
       "       [27,  3, 19, 33,  2],\n",
       "       [30,  9, 17, 15, 16],\n",
       "       [35, 20, 34,  7, 42],\n",
       "       [45, 13, 43, 13, 22],\n",
       "       [41, 49, 40, 25, 21]])"
      ]
     },
     "execution_count": 78,
     "metadata": {},
     "output_type": "execute_result"
    }
   ],
   "source": [
    "a5"
   ]
  },
  {
   "cell_type": "code",
   "execution_count": 81,
   "id": "fe9878a9",
   "metadata": {},
   "outputs": [
    {
     "data": {
      "text/plain": [
       "array([41, 42, 45, 43, 41, 49])"
      ]
     },
     "execution_count": 81,
     "metadata": {},
     "output_type": "execute_result"
    }
   ],
   "source": [
    "a5[a5>40]"
   ]
  },
  {
   "cell_type": "code",
   "execution_count": 82,
   "id": "d920ad9c",
   "metadata": {},
   "outputs": [
    {
     "data": {
      "text/plain": [
       "array([[36, 41, 24, 39, 40],\n",
       "       [27,  3, 19, 33,  2],\n",
       "       [30,  9, 17, 15, 16],\n",
       "       [35, 20, 34,  7, 42],\n",
       "       [45, 13, 43, 13, 22],\n",
       "       [41, 49, 40, 25, 21]])"
      ]
     },
     "execution_count": 82,
     "metadata": {},
     "output_type": "execute_result"
    }
   ],
   "source": [
    "a5"
   ]
  },
  {
   "cell_type": "markdown",
   "id": "d5ef803c",
   "metadata": {},
   "source": [
    "### Repalce number in a particular column"
   ]
  },
  {
   "cell_type": "code",
   "execution_count": 83,
   "id": "c2d54834",
   "metadata": {},
   "outputs": [],
   "source": [
    "a5[0,1]=100"
   ]
  },
  {
   "cell_type": "code",
   "execution_count": 84,
   "id": "b481ad36",
   "metadata": {},
   "outputs": [
    {
     "data": {
      "text/plain": [
       "array([[ 36, 100,  24,  39,  40],\n",
       "       [ 27,   3,  19,  33,   2],\n",
       "       [ 30,   9,  17,  15,  16],\n",
       "       [ 35,  20,  34,   7,  42],\n",
       "       [ 45,  13,  43,  13,  22],\n",
       "       [ 41,  49,  40,  25,  21]])"
      ]
     },
     "execution_count": 84,
     "metadata": {},
     "output_type": "execute_result"
    }
   ],
   "source": [
    "a5"
   ]
  },
  {
   "cell_type": "code",
   "execution_count": 107,
   "id": "87707439",
   "metadata": {},
   "outputs": [],
   "source": [
    "a6=np.random.randint(0,3,(3,3))"
   ]
  },
  {
   "cell_type": "code",
   "execution_count": 108,
   "id": "5aafe38c",
   "metadata": {},
   "outputs": [
    {
     "data": {
      "text/plain": [
       "array([[0, 1, 1],\n",
       "       [2, 1, 0],\n",
       "       [2, 0, 2]])"
      ]
     },
     "execution_count": 108,
     "metadata": {},
     "output_type": "execute_result"
    }
   ],
   "source": [
    "a6"
   ]
  },
  {
   "cell_type": "code",
   "execution_count": 109,
   "id": "6d2c15b5",
   "metadata": {},
   "outputs": [],
   "source": [
    "a7=np.random.randint(0,3,(3,3))"
   ]
  },
  {
   "cell_type": "code",
   "execution_count": 110,
   "id": "c9f76404",
   "metadata": {},
   "outputs": [
    {
     "data": {
      "text/plain": [
       "array([[0, 0, 0],\n",
       "       [1, 0, 2],\n",
       "       [2, 1, 0]])"
      ]
     },
     "execution_count": 110,
     "metadata": {},
     "output_type": "execute_result"
    }
   ],
   "source": [
    "a7"
   ]
  },
  {
   "cell_type": "markdown",
   "id": "64f706ef",
   "metadata": {},
   "source": [
    "## Multiplication of two array"
   ]
  },
  {
   "cell_type": "code",
   "execution_count": 111,
   "id": "105a1d60",
   "metadata": {},
   "outputs": [
    {
     "data": {
      "text/plain": [
       "array([[0, 0, 0],\n",
       "       [2, 0, 0],\n",
       "       [4, 0, 0]])"
      ]
     },
     "execution_count": 111,
     "metadata": {},
     "output_type": "execute_result"
    }
   ],
   "source": [
    "a6*a7"
   ]
  },
  {
   "cell_type": "markdown",
   "id": "adeccd44",
   "metadata": {},
   "source": [
    "## Matrix multipication"
   ]
  },
  {
   "cell_type": "code",
   "execution_count": 112,
   "id": "2695aa9a",
   "metadata": {},
   "outputs": [
    {
     "data": {
      "text/plain": [
       "array([[3, 1, 2],\n",
       "       [1, 0, 2],\n",
       "       [4, 2, 0]])"
      ]
     },
     "execution_count": 112,
     "metadata": {},
     "output_type": "execute_result"
    }
   ],
   "source": [
    "a6@a7"
   ]
  },
  {
   "cell_type": "code",
   "execution_count": 113,
   "id": "a86235e9",
   "metadata": {},
   "outputs": [
    {
     "data": {
      "text/plain": [
       "array([[100, 101, 101],\n",
       "       [102, 101, 100],\n",
       "       [102, 100, 102]])"
      ]
     },
     "execution_count": 113,
     "metadata": {},
     "output_type": "execute_result"
    }
   ],
   "source": [
    "a6+100"
   ]
  },
  {
   "cell_type": "code",
   "execution_count": 114,
   "id": "6e89df8f",
   "metadata": {},
   "outputs": [
    {
     "name": "stderr",
     "output_type": "stream",
     "text": [
      "C:\\Users\\ANULIP~1\\AppData\\Local\\Temp/ipykernel_16184/1058679823.py:1: RuntimeWarning: divide by zero encountered in true_divide\n",
      "  a6/0\n",
      "C:\\Users\\ANULIP~1\\AppData\\Local\\Temp/ipykernel_16184/1058679823.py:1: RuntimeWarning: invalid value encountered in true_divide\n",
      "  a6/0\n"
     ]
    },
    {
     "data": {
      "text/plain": [
       "array([[nan, inf, inf],\n",
       "       [inf, inf, nan],\n",
       "       [inf, nan, inf]])"
      ]
     },
     "execution_count": 114,
     "metadata": {},
     "output_type": "execute_result"
    }
   ],
   "source": [
    "a6/0"
   ]
  },
  {
   "cell_type": "markdown",
   "id": "9a60999b",
   "metadata": {},
   "source": [
    "## Power operation"
   ]
  },
  {
   "cell_type": "code",
   "execution_count": 115,
   "id": "6dbb0185",
   "metadata": {},
   "outputs": [
    {
     "data": {
      "text/plain": [
       "array([[0, 1, 1],\n",
       "       [4, 1, 0],\n",
       "       [4, 0, 4]], dtype=int32)"
      ]
     },
     "execution_count": 115,
     "metadata": {},
     "output_type": "execute_result"
    }
   ],
   "source": [
    "a6**2"
   ]
  },
  {
   "cell_type": "code",
   "execution_count": 118,
   "id": "9ec9b944",
   "metadata": {},
   "outputs": [],
   "source": [
    "a8=np.zeros((4,4))"
   ]
  },
  {
   "cell_type": "code",
   "execution_count": 119,
   "id": "fbf926ab",
   "metadata": {},
   "outputs": [
    {
     "data": {
      "text/plain": [
       "array([[0., 0., 0., 0.],\n",
       "       [0., 0., 0., 0.],\n",
       "       [0., 0., 0., 0.],\n",
       "       [0., 0., 0., 0.]])"
      ]
     },
     "execution_count": 119,
     "metadata": {},
     "output_type": "execute_result"
    }
   ],
   "source": [
    "a8"
   ]
  },
  {
   "cell_type": "code",
   "execution_count": 121,
   "id": "b6cdf0fd",
   "metadata": {},
   "outputs": [
    {
     "data": {
      "text/plain": [
       "array([[1., 1., 1., 1., 1.],\n",
       "       [1., 1., 1., 1., 1.],\n",
       "       [1., 1., 1., 1., 1.],\n",
       "       [1., 1., 1., 1., 1.]])"
      ]
     },
     "execution_count": 121,
     "metadata": {},
     "output_type": "execute_result"
    }
   ],
   "source": [
    "np.ones((4,5))"
   ]
  },
  {
   "cell_type": "markdown",
   "id": "848fd25b",
   "metadata": {},
   "source": [
    "## Transpose"
   ]
  },
  {
   "cell_type": "code",
   "execution_count": 122,
   "id": "bf265027",
   "metadata": {},
   "outputs": [
    {
     "data": {
      "text/plain": [
       "array([[1],\n",
       "       [2],\n",
       "       [3],\n",
       "       [4]])"
      ]
     },
     "execution_count": 122,
     "metadata": {},
     "output_type": "execute_result"
    }
   ],
   "source": [
    "np.array([[1,2,3,4]]).T"
   ]
  },
  {
   "cell_type": "code",
   "execution_count": 123,
   "id": "5fb159b5",
   "metadata": {},
   "outputs": [],
   "source": [
    "## with out transpose"
   ]
  },
  {
   "cell_type": "code",
   "execution_count": 124,
   "id": "1b6c2b63",
   "metadata": {},
   "outputs": [
    {
     "data": {
      "text/plain": [
       "array([[1, 2, 3, 4]])"
      ]
     },
     "execution_count": 124,
     "metadata": {},
     "output_type": "execute_result"
    }
   ],
   "source": [
    "np.array([[1,2,3,4]])"
   ]
  },
  {
   "cell_type": "code",
   "execution_count": 125,
   "id": "699644f9",
   "metadata": {},
   "outputs": [
    {
     "data": {
      "text/plain": [
       "array([[0, 2, 2],\n",
       "       [1, 1, 0],\n",
       "       [1, 0, 2]])"
      ]
     },
     "execution_count": 125,
     "metadata": {},
     "output_type": "execute_result"
    }
   ],
   "source": [
    "a6.T"
   ]
  },
  {
   "cell_type": "code",
   "execution_count": 126,
   "id": "6570d849",
   "metadata": {},
   "outputs": [
    {
     "data": {
      "text/plain": [
       "array([[0, 1, 1],\n",
       "       [2, 1, 0],\n",
       "       [2, 0, 2]])"
      ]
     },
     "execution_count": 126,
     "metadata": {},
     "output_type": "execute_result"
    }
   ],
   "source": [
    "a6"
   ]
  },
  {
   "cell_type": "code",
   "execution_count": 127,
   "id": "c8239df6",
   "metadata": {},
   "outputs": [
    {
     "data": {
      "text/plain": [
       "array([[ 36, 100,  24,  39,  40],\n",
       "       [ 27,   3,  19,  33,   2],\n",
       "       [ 30,   9,  17,  15,  16],\n",
       "       [ 35,  20,  34,   7,  42],\n",
       "       [ 45,  13,  43,  13,  22],\n",
       "       [ 41,  49,  40,  25,  21]])"
      ]
     },
     "execution_count": 127,
     "metadata": {},
     "output_type": "execute_result"
    }
   ],
   "source": [
    "a5"
   ]
  },
  {
   "cell_type": "markdown",
   "id": "21b65b56",
   "metadata": {},
   "source": [
    "## Square root"
   ]
  },
  {
   "cell_type": "code",
   "execution_count": 131,
   "id": "347071ba",
   "metadata": {},
   "outputs": [
    {
     "data": {
      "text/plain": [
       "array([[ 6.        , 10.        ,  4.89897949,  6.244998  ,  6.32455532],\n",
       "       [ 5.19615242,  1.73205081,  4.35889894,  5.74456265,  1.41421356],\n",
       "       [ 5.47722558,  3.        ,  4.12310563,  3.87298335,  4.        ],\n",
       "       [ 5.91607978,  4.47213595,  5.83095189,  2.64575131,  6.4807407 ],\n",
       "       [ 6.70820393,  3.60555128,  6.55743852,  3.60555128,  4.69041576],\n",
       "       [ 6.40312424,  7.        ,  6.32455532,  5.        ,  4.58257569]])"
      ]
     },
     "execution_count": 131,
     "metadata": {},
     "output_type": "execute_result"
    }
   ],
   "source": [
    "np.sqrt(a5)"
   ]
  },
  {
   "cell_type": "markdown",
   "id": "c7d5f270",
   "metadata": {},
   "source": [
    "## Exponinent"
   ]
  },
  {
   "cell_type": "code",
   "execution_count": 132,
   "id": "631b1fc6",
   "metadata": {},
   "outputs": [
    {
     "data": {
      "text/plain": [
       "array([[4.31123155e+15, 2.68811714e+43, 2.64891221e+10, 8.65934004e+16,\n",
       "        2.35385267e+17],\n",
       "       [5.32048241e+11, 2.00855369e+01, 1.78482301e+08, 2.14643580e+14,\n",
       "        7.38905610e+00],\n",
       "       [1.06864746e+13, 8.10308393e+03, 2.41549528e+07, 3.26901737e+06,\n",
       "        8.88611052e+06],\n",
       "       [1.58601345e+15, 4.85165195e+08, 5.83461743e+14, 1.09663316e+03,\n",
       "        1.73927494e+18],\n",
       "       [3.49342711e+19, 4.42413392e+05, 4.72783947e+18, 4.42413392e+05,\n",
       "        3.58491285e+09],\n",
       "       [6.39843494e+17, 1.90734657e+21, 2.35385267e+17, 7.20048993e+10,\n",
       "        1.31881573e+09]])"
      ]
     },
     "execution_count": 132,
     "metadata": {},
     "output_type": "execute_result"
    }
   ],
   "source": [
    "np.exp(a5)"
   ]
  },
  {
   "cell_type": "markdown",
   "id": "8de4f0d2",
   "metadata": {},
   "source": [
    "## Range Function"
   ]
  },
  {
   "cell_type": "code",
   "execution_count": 133,
   "id": "bbe5cdbc",
   "metadata": {},
   "outputs": [
    {
     "data": {
      "text/plain": [
       "[0, 2, 4, 6, 8]"
      ]
     },
     "execution_count": 133,
     "metadata": {},
     "output_type": "execute_result"
    }
   ],
   "source": [
    "list(range(0,10,2))"
   ]
  },
  {
   "cell_type": "code",
   "execution_count": 3,
   "id": "4cd2a41e",
   "metadata": {},
   "outputs": [
    {
     "data": {
      "text/plain": [
       "array([0, 1, 2, 3, 4, 5, 6, 7, 8, 9])"
      ]
     },
     "execution_count": 3,
     "metadata": {},
     "output_type": "execute_result"
    }
   ],
   "source": [
    "np.arange(10)"
   ]
  },
  {
   "cell_type": "markdown",
   "id": "94cb6015",
   "metadata": {},
   "source": [
    "## Identical matrix"
   ]
  },
  {
   "cell_type": "markdown",
   "id": "3dc04b68",
   "metadata": {},
   "source": [
    "( diagonal matrix is 1 or determinant is 1) "
   ]
  },
  {
   "cell_type": "code",
   "execution_count": 4,
   "id": "399d7854",
   "metadata": {},
   "outputs": [
    {
     "data": {
      "text/plain": [
       "array([[1., 0., 0., 0., 0.],\n",
       "       [0., 1., 0., 0., 0.],\n",
       "       [0., 0., 1., 0., 0.],\n",
       "       [0., 0., 0., 1., 0.],\n",
       "       [0., 0., 0., 0., 1.]])"
      ]
     },
     "execution_count": 4,
     "metadata": {},
     "output_type": "execute_result"
    }
   ],
   "source": [
    "np.eye(5)"
   ]
  },
  {
   "cell_type": "code",
   "execution_count": null,
   "id": "c640e77a",
   "metadata": {},
   "outputs": [],
   "source": []
  }
 ],
 "metadata": {
  "kernelspec": {
   "display_name": "Python 3 (ipykernel)",
   "language": "python",
   "name": "python3"
  },
  "language_info": {
   "codemirror_mode": {
    "name": "ipython",
    "version": 3
   },
   "file_extension": ".py",
   "mimetype": "text/x-python",
   "name": "python",
   "nbconvert_exporter": "python",
   "pygments_lexer": "ipython3",
   "version": "3.9.7"
  }
 },
 "nbformat": 4,
 "nbformat_minor": 5
}
